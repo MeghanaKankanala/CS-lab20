{
  "nbformat": 4,
  "nbformat_minor": 0,
  "metadata": {
    "colab": {
      "name": "Text_Summerization.ipynb",
      "provenance": [],
      "authorship_tag": "ABX9TyMHrgcYx/MX8NpVKdPclFId",
      "include_colab_link": true
    },
    "kernelspec": {
      "name": "python3",
      "display_name": "Python 3"
    }
  },
  "cells": [
    {
      "cell_type": "markdown",
      "metadata": {
        "id": "view-in-github",
        "colab_type": "text"
      },
      "source": [
        "<a href=\"https://colab.research.google.com/github/MeghanaKankanala/CS-lab20/blob/master/Text_Summerization%20using%20tf_idf%20Algo.ipynb\" target=\"_parent\"><img src=\"https://colab.research.google.com/assets/colab-badge.svg\" alt=\"Open In Colab\"/></a>"
      ]
    },
    {
      "cell_type": "markdown",
      "metadata": {
        "id": "eg_PjKF7xsTD",
        "colab_type": "text"
      },
      "source": [
        "# **Tf_idf Algo**"
      ]
    },
    {
      "cell_type": "code",
      "metadata": {
        "id": "9QeDjfy7w2op",
        "colab_type": "code",
        "colab": {
          "base_uri": "https://localhost:8080/",
          "height": 119
        },
        "outputId": "8fbe2fd7-efea-431a-fb1c-818ece091885"
      },
      "source": [
        "import nltk\n",
        "nltk.download('punkt') \n",
        "nltk.download('wordnet') \n",
        "nltk.download('stopwords')\n",
        "from nltk.tokenize import sent_tokenize, word_tokenize\n",
        "from nltk.corpus import stopwords\n",
        "from nltk.stem import WordNetLemmatizer\n",
        "from nltk.stem.porter import PorterStemmer\n",
        "\n"
      ],
      "execution_count": 122,
      "outputs": [
        {
          "output_type": "stream",
          "text": [
            "[nltk_data] Downloading package punkt to /root/nltk_data...\n",
            "[nltk_data]   Package punkt is already up-to-date!\n",
            "[nltk_data] Downloading package wordnet to /root/nltk_data...\n",
            "[nltk_data]   Package wordnet is already up-to-date!\n",
            "[nltk_data] Downloading package stopwords to /root/nltk_data...\n",
            "[nltk_data]   Package stopwords is already up-to-date!\n"
          ],
          "name": "stdout"
        }
      ]
    },
    {
      "cell_type": "markdown",
      "metadata": {
        "id": "azLnAyBRxTwW",
        "colab_type": "text"
      },
      "source": [
        "Term frequency (TF) is how often a word appears in a document, divided by how many words there are.\n",
        "# **TF(t) = (Number of times term t appears in a document) / (Total number of terms in the document)**\n",
        "Term frequency is how common a word is, inverse document frequency (IDF) is how unique or rare a word is.\n",
        "# **IDF(t) = log_e(Total number of documents / Number of documents with term t in it)**\n",
        "Example,\n",
        "Consider a document containing 100 words wherein the word apple appears 5 times. The term frequency (i.e., TF) for apple is then (5 / 100) = 0.05.\n",
        "Now, assume we have 10 million documents and the word apple appears in one thousand of these. Then, the inverse document frequency (i.e., IDF) is calculated as log(10,000,000 / 1,000) = 4.\n",
        "Thus, the TF-IDF weight is the product of these quantities: 0.05 * 4 = 0.20."
      ]
    },
    {
      "cell_type": "code",
      "metadata": {
        "id": "lQR2bBlByGnU",
        "colab_type": "code",
        "colab": {}
      },
      "source": [
        "text=\"To help the actors prepare for their roles, director James Cameron took the cast and crew to Hawaii, where they spent their days trekking through the forests and jungles and living like tribes (building campfires, eating fish, etc), in order to get a better sense of what it would be like to live and move around in the jungle on Pandora, since there would not be any actual jungle sets to aid and guide the actors and crew. Zoe Saldana even dressed up as a warrior during these journeys, complete with an alien tail symbolic of the one her character has in the movie. These hikes were only done during the daytime, however, as the cast and crew spent their nights at a Four Seasons hotel.\""
      ],
      "execution_count": 123,
      "outputs": []
    },
    {
      "cell_type": "markdown",
      "metadata": {
        "id": "s8g-iIrT2-4e",
        "colab_type": "text"
      },
      "source": [
        "# Tokenizing into sentences"
      ]
    },
    {
      "cell_type": "code",
      "metadata": {
        "id": "aJpfeMfayEC2",
        "colab_type": "code",
        "colab": {
          "base_uri": "https://localhost:8080/",
          "height": 88
        },
        "outputId": "3963b941-3361-4ea7-9f01-1753b05af55b"
      },
      "source": [
        "sentences = sent_tokenize(text) \n",
        "total_documents = len(sentences)\n",
        "sentences"
      ],
      "execution_count": 124,
      "outputs": [
        {
          "output_type": "execute_result",
          "data": {
            "text/plain": [
              "['To help the actors prepare for their roles, director James Cameron took the cast and crew to Hawaii, where they spent their days trekking through the forests and jungles and living like tribes (building campfires, eating fish, etc), in order to get a better sense of what it would be like to live and move around in the jungle on Pandora, since there would not be any actual jungle sets to aid and guide the actors and crew.',\n",
              " 'Zoe Saldana even dressed up as a warrior during these journeys, complete with an alien tail symbolic of the one her character has in the movie.',\n",
              " 'These hikes were only done during the daytime, however, as the cast and crew spent their nights at a Four Seasons hotel.']"
            ]
          },
          "metadata": {
            "tags": []
          },
          "execution_count": 124
        }
      ]
    },
    {
      "cell_type": "markdown",
      "metadata": {
        "id": "_w-7lXbi3SSG",
        "colab_type": "text"
      },
      "source": [
        "Creating freq_matrix for a word within sentences"
      ]
    },
    {
      "cell_type": "code",
      "metadata": {
        "id": "yPvNatN_yEGs",
        "colab_type": "code",
        "colab": {}
      },
      "source": [
        "def frequency_matrix(sentences):\n",
        "    freq_matrix = {}\n",
        "    stopWords = set(stopwords.words(\"english\"))\n",
        "    ps = PorterStemmer()\n",
        "\n",
        "    for sent in sentences:\n",
        "        freq_table = {}\n",
        "        words = word_tokenize(sent)\n",
        "        for word in words:\n",
        "            word = word.lower()\n",
        "            word = ps.stem(word)\n",
        "            if word in stopWords:\n",
        "                continue\n",
        "\n",
        "            if word in freq_table:\n",
        "                freq_table[word] += 1\n",
        "            else:\n",
        "                freq_table[word] = 1\n",
        "\n",
        "        freq_matrix[sent[:10]] = freq_table\n",
        "\n",
        "    return freq_matrix"
      ],
      "execution_count": 125,
      "outputs": []
    },
    {
      "cell_type": "markdown",
      "metadata": {
        "id": "UF9g10Kx4NU0",
        "colab_type": "text"
      },
      "source": [
        "TF(t) = (Number of times term t appears in a document) / (Total number of terms in the document)"
      ]
    },
    {
      "cell_type": "code",
      "metadata": {
        "id": "f36EdlNsyEAG",
        "colab_type": "code",
        "colab": {}
      },
      "source": [
        "def term_frequency_matrix(freq_matrix):\n",
        "    tf_matrix = {}\n",
        "\n",
        "    for sent, f_table in freq_matrix.items():\n",
        "        tf_table = {}\n",
        "\n",
        "        no_of_words_in_sentence = len(f_table)\n",
        "        for word, count in f_table.items():\n",
        "            tf_table[word] = count / no_of_words_in_sentence\n",
        "\n",
        "        tf_matrix[sent] = tf_table\n",
        "\n",
        "    return tf_matrix"
      ],
      "execution_count": 126,
      "outputs": []
    },
    {
      "cell_type": "markdown",
      "metadata": {
        "id": "VoJ0qW884e-R",
        "colab_type": "text"
      },
      "source": [
        "defining function which gives no of documents contain the word"
      ]
    },
    {
      "cell_type": "code",
      "metadata": {
        "id": "SkutEiZoyD-W",
        "colab_type": "code",
        "colab": {}
      },
      "source": [
        "def documents_per_words(freq_matrix):\n",
        "    word_per_doc_table = {}\n",
        "\n",
        "    for sent, f_table in freq_matrix.items():\n",
        "        for word, count in f_table.items():\n",
        "            if word in word_per_doc_table:\n",
        "                word_per_doc_table[word] += 1\n",
        "            else:\n",
        "                word_per_doc_table[word] = 1\n",
        "\n",
        "    return word_per_doc_table"
      ],
      "execution_count": 127,
      "outputs": []
    },
    {
      "cell_type": "markdown",
      "metadata": {
        "id": "gE9QYBUI6_Bf",
        "colab_type": "text"
      },
      "source": [
        "IDF(t) = log_e(Total number of documents / Number of documents with term t in it) "
      ]
    },
    {
      "cell_type": "code",
      "metadata": {
        "id": "Oo4o3pKV1A2v",
        "colab_type": "code",
        "colab": {}
      },
      "source": [
        "def _create_idf_matrix(freq_matrix, count_doc_per_words, total_documents):\n",
        "    idf_matrix = {}\n",
        "\n",
        "    for sent, f_table in freq_matrix.items():\n",
        "        idf_table = {}\n",
        "\n",
        "        for word in f_table.keys():\n",
        "            idf_table[word] = math.log10(total_documents / float(count_doc_per_words[word]))\n",
        "\n",
        "        idf_matrix[sent] = idf_table\n",
        "\n",
        "    return idf_matrix"
      ],
      "execution_count": 128,
      "outputs": []
    },
    {
      "cell_type": "code",
      "metadata": {
        "id": "vTcKLyta1BJG",
        "colab_type": "code",
        "colab": {}
      },
      "source": [
        "def _create_tf_idf_matrix(tf_matrix, idf_matrix):\n",
        "    tf_idf_matrix = {}\n",
        "\n",
        "    for (sent1, f_table1), (sent2, f_table2) in zip(tf_matrix.items(), idf_matrix.items()):\n",
        "\n",
        "        tf_idf_table = {}\n",
        "\n",
        "        for (word1, value1), (word2, value2) in zip(f_table1.items(),\n",
        "                                                    f_table2.items()):  # here, keys are the same in both the table\n",
        "            tf_idf_table[word1] = float(value1 * value2)\n",
        "\n",
        "        tf_idf_matrix[sent1] = tf_idf_table\n",
        "\n",
        "    return tf_idf_matrix\n"
      ],
      "execution_count": 129,
      "outputs": []
    },
    {
      "cell_type": "markdown",
      "metadata": {
        "id": "AR_kxPrZ77cr",
        "colab_type": "text"
      },
      "source": [
        "sentence scoring\n",
        " adding the TF frequency of every non-stop word in a sentence divided by total no of words in a sentence.\n",
        "    "
      ]
    },
    {
      "cell_type": "code",
      "metadata": {
        "id": "FZo4jlVm1BfU",
        "colab_type": "code",
        "colab": {}
      },
      "source": [
        "def _score_sentences(tf_idf_matrix): \n",
        "    \n",
        "\n",
        "    sentenceValue = {}\n",
        "\n",
        "    for sent, f_table in tf_idf_matrix.items():\n",
        "        total_score_per_sentence = 0\n",
        "\n",
        "        total_no_of_words_in_sentence = len(f_table)\n",
        "        for word, score in f_table.items():\n",
        "            total_score_per_sentence += score\n",
        "\n",
        "        sentenceValue[sent] = total_score_per_sentence / total_no_of_words_in_sentence\n",
        "\n",
        "    return sentenceValue"
      ],
      "execution_count": 130,
      "outputs": []
    },
    {
      "cell_type": "markdown",
      "metadata": {
        "id": "XMVtGMbs9eDp",
        "colab_type": "text"
      },
      "source": [
        "Finding Threshold"
      ]
    },
    {
      "cell_type": "code",
      "metadata": {
        "id": "_3FELrDK1A8s",
        "colab_type": "code",
        "colab": {}
      },
      "source": [
        "def _average_score(sentenceValue):\n",
        "    \n",
        "    \n",
        "    sumValues = 0\n",
        "    for entry in sentenceValue:\n",
        "        sumValues += sentenceValue[entry]\n",
        "\n",
        "    average = (sumValues / len(sentenceValue))\n",
        "\n",
        "    return average"
      ],
      "execution_count": 131,
      "outputs": []
    },
    {
      "cell_type": "code",
      "metadata": {
        "id": "Teqcb7R91AzS",
        "colab_type": "code",
        "colab": {}
      },
      "source": [
        "def _generate_summary(sentences, sentenceValue, threshold):\n",
        "    sentence_count = 0\n",
        "    summary = ''\n",
        "\n",
        "    for sentence in sentences:\n",
        "        if sentence[:10] in sentenceValue and sentenceValue[sentence[:10]] >= (threshold):\n",
        "            summary += \" \" + sentence\n",
        "            sentence_count += 1\n",
        "\n",
        "    return summary\n"
      ],
      "execution_count": 132,
      "outputs": []
    },
    {
      "cell_type": "code",
      "metadata": {
        "id": "XJrD0Sjq1Ax3",
        "colab_type": "code",
        "colab": {
          "base_uri": "https://localhost:8080/",
          "height": 54
        },
        "outputId": "a59ef718-c7c2-4bcf-f14e-dfdd7bfb272f"
      },
      "source": [
        "import math\n",
        "# 2 Create the Frequency matrix of the words in each sentence.\n",
        "freq_matrix = frequency_matrix(sentences)\n",
        "print(freq_matrix)\n",
        "\n",
        "\n",
        "\n"
      ],
      "execution_count": 133,
      "outputs": [
        {
          "output_type": "stream",
          "text": [
            "{'To help th': {'help': 1, 'actor': 2, 'prepar': 1, 'role': 1, ',': 6, 'director': 1, 'jame': 1, 'cameron': 1, 'took': 1, 'cast': 1, 'crew': 2, 'hawaii': 1, 'spent': 1, 'day': 1, 'trek': 1, 'forest': 1, 'jungl': 3, 'live': 2, 'like': 2, 'tribe': 1, '(': 1, 'build': 1, 'campfir': 1, 'eat': 1, 'fish': 1, 'etc': 1, ')': 1, 'order': 1, 'get': 1, 'better': 1, 'sens': 1, 'would': 2, 'move': 1, 'around': 1, 'pandora': 1, 'sinc': 1, 'ani': 1, 'actual': 1, 'set': 1, 'aid': 1, 'guid': 1, '.': 1}, 'Zoe Saldan': {'zoe': 1, 'saldana': 1, 'even': 1, 'dress': 1, 'warrior': 1, 'dure': 1, 'journey': 1, ',': 1, 'complet': 1, 'alien': 1, 'tail': 1, 'symbol': 1, 'one': 1, 'charact': 1, 'ha': 1, 'movi': 1, '.': 1}, 'These hike': {'hike': 1, 'onli': 1, 'done': 1, 'dure': 1, 'daytim': 1, ',': 2, 'howev': 1, 'cast': 1, 'crew': 1, 'spent': 1, 'night': 1, 'four': 1, 'season': 1, 'hotel': 1, '.': 1}}\n"
          ],
          "name": "stdout"
        }
      ]
    },
    {
      "cell_type": "code",
      "metadata": {
        "id": "J5uJOU6R-PMO",
        "colab_type": "code",
        "colab": {
          "base_uri": "https://localhost:8080/",
          "height": 54
        },
        "outputId": "c68c8274-c429-4f9b-b814-5d33ed162f6d"
      },
      "source": [
        "# 3 Calculate TermFrequency and generate a matrix\n",
        "tf_matrix = term_frequency_matrix(freq_matrix)\n",
        "print(tf_matrix)\n",
        "\n"
      ],
      "execution_count": 134,
      "outputs": [
        {
          "output_type": "stream",
          "text": [
            "{'To help th': {'help': 0.023809523809523808, 'actor': 0.047619047619047616, 'prepar': 0.023809523809523808, 'role': 0.023809523809523808, ',': 0.14285714285714285, 'director': 0.023809523809523808, 'jame': 0.023809523809523808, 'cameron': 0.023809523809523808, 'took': 0.023809523809523808, 'cast': 0.023809523809523808, 'crew': 0.047619047619047616, 'hawaii': 0.023809523809523808, 'spent': 0.023809523809523808, 'day': 0.023809523809523808, 'trek': 0.023809523809523808, 'forest': 0.023809523809523808, 'jungl': 0.07142857142857142, 'live': 0.047619047619047616, 'like': 0.047619047619047616, 'tribe': 0.023809523809523808, '(': 0.023809523809523808, 'build': 0.023809523809523808, 'campfir': 0.023809523809523808, 'eat': 0.023809523809523808, 'fish': 0.023809523809523808, 'etc': 0.023809523809523808, ')': 0.023809523809523808, 'order': 0.023809523809523808, 'get': 0.023809523809523808, 'better': 0.023809523809523808, 'sens': 0.023809523809523808, 'would': 0.047619047619047616, 'move': 0.023809523809523808, 'around': 0.023809523809523808, 'pandora': 0.023809523809523808, 'sinc': 0.023809523809523808, 'ani': 0.023809523809523808, 'actual': 0.023809523809523808, 'set': 0.023809523809523808, 'aid': 0.023809523809523808, 'guid': 0.023809523809523808, '.': 0.023809523809523808}, 'Zoe Saldan': {'zoe': 0.058823529411764705, 'saldana': 0.058823529411764705, 'even': 0.058823529411764705, 'dress': 0.058823529411764705, 'warrior': 0.058823529411764705, 'dure': 0.058823529411764705, 'journey': 0.058823529411764705, ',': 0.058823529411764705, 'complet': 0.058823529411764705, 'alien': 0.058823529411764705, 'tail': 0.058823529411764705, 'symbol': 0.058823529411764705, 'one': 0.058823529411764705, 'charact': 0.058823529411764705, 'ha': 0.058823529411764705, 'movi': 0.058823529411764705, '.': 0.058823529411764705}, 'These hike': {'hike': 0.06666666666666667, 'onli': 0.06666666666666667, 'done': 0.06666666666666667, 'dure': 0.06666666666666667, 'daytim': 0.06666666666666667, ',': 0.13333333333333333, 'howev': 0.06666666666666667, 'cast': 0.06666666666666667, 'crew': 0.06666666666666667, 'spent': 0.06666666666666667, 'night': 0.06666666666666667, 'four': 0.06666666666666667, 'season': 0.06666666666666667, 'hotel': 0.06666666666666667, '.': 0.06666666666666667}}\n"
          ],
          "name": "stdout"
        }
      ]
    },
    {
      "cell_type": "code",
      "metadata": {
        "id": "B74mCmZK-Q6p",
        "colab_type": "code",
        "colab": {
          "base_uri": "https://localhost:8080/",
          "height": 54
        },
        "outputId": "e3977d3f-3990-43e4-a9f9-065aad54619b"
      },
      "source": [
        "# 4 creating table for documents per words\n",
        "count_doc_per_words = documents_per_words(freq_matrix)\n",
        "print(count_doc_per_words)\n",
        "\n"
      ],
      "execution_count": 135,
      "outputs": [
        {
          "output_type": "stream",
          "text": [
            "{'help': 1, 'actor': 1, 'prepar': 1, 'role': 1, ',': 3, 'director': 1, 'jame': 1, 'cameron': 1, 'took': 1, 'cast': 2, 'crew': 2, 'hawaii': 1, 'spent': 2, 'day': 1, 'trek': 1, 'forest': 1, 'jungl': 1, 'live': 1, 'like': 1, 'tribe': 1, '(': 1, 'build': 1, 'campfir': 1, 'eat': 1, 'fish': 1, 'etc': 1, ')': 1, 'order': 1, 'get': 1, 'better': 1, 'sens': 1, 'would': 1, 'move': 1, 'around': 1, 'pandora': 1, 'sinc': 1, 'ani': 1, 'actual': 1, 'set': 1, 'aid': 1, 'guid': 1, '.': 3, 'zoe': 1, 'saldana': 1, 'even': 1, 'dress': 1, 'warrior': 1, 'dure': 2, 'journey': 1, 'complet': 1, 'alien': 1, 'tail': 1, 'symbol': 1, 'one': 1, 'charact': 1, 'ha': 1, 'movi': 1, 'hike': 1, 'onli': 1, 'done': 1, 'daytim': 1, 'howev': 1, 'night': 1, 'four': 1, 'season': 1, 'hotel': 1}\n"
          ],
          "name": "stdout"
        }
      ]
    },
    {
      "cell_type": "code",
      "metadata": {
        "id": "YjGKo3cx-P8-",
        "colab_type": "code",
        "colab": {
          "base_uri": "https://localhost:8080/",
          "height": 54
        },
        "outputId": "de5bbcd2-b7c9-4262-d0e9-f493366cb733"
      },
      "source": [
        "# 5 Calculate IDF and generate a matrix\n",
        "idf_matrix = _create_idf_matrix(freq_matrix, count_doc_per_words, total_documents)\n",
        "print(idf_matrix)\n",
        "\n"
      ],
      "execution_count": 136,
      "outputs": [
        {
          "output_type": "stream",
          "text": [
            "{'To help th': {'help': 0.47712125471966244, 'actor': 0.47712125471966244, 'prepar': 0.47712125471966244, 'role': 0.47712125471966244, ',': 0.0, 'director': 0.47712125471966244, 'jame': 0.47712125471966244, 'cameron': 0.47712125471966244, 'took': 0.47712125471966244, 'cast': 0.17609125905568124, 'crew': 0.17609125905568124, 'hawaii': 0.47712125471966244, 'spent': 0.17609125905568124, 'day': 0.47712125471966244, 'trek': 0.47712125471966244, 'forest': 0.47712125471966244, 'jungl': 0.47712125471966244, 'live': 0.47712125471966244, 'like': 0.47712125471966244, 'tribe': 0.47712125471966244, '(': 0.47712125471966244, 'build': 0.47712125471966244, 'campfir': 0.47712125471966244, 'eat': 0.47712125471966244, 'fish': 0.47712125471966244, 'etc': 0.47712125471966244, ')': 0.47712125471966244, 'order': 0.47712125471966244, 'get': 0.47712125471966244, 'better': 0.47712125471966244, 'sens': 0.47712125471966244, 'would': 0.47712125471966244, 'move': 0.47712125471966244, 'around': 0.47712125471966244, 'pandora': 0.47712125471966244, 'sinc': 0.47712125471966244, 'ani': 0.47712125471966244, 'actual': 0.47712125471966244, 'set': 0.47712125471966244, 'aid': 0.47712125471966244, 'guid': 0.47712125471966244, '.': 0.0}, 'Zoe Saldan': {'zoe': 0.47712125471966244, 'saldana': 0.47712125471966244, 'even': 0.47712125471966244, 'dress': 0.47712125471966244, 'warrior': 0.47712125471966244, 'dure': 0.17609125905568124, 'journey': 0.47712125471966244, ',': 0.0, 'complet': 0.47712125471966244, 'alien': 0.47712125471966244, 'tail': 0.47712125471966244, 'symbol': 0.47712125471966244, 'one': 0.47712125471966244, 'charact': 0.47712125471966244, 'ha': 0.47712125471966244, 'movi': 0.47712125471966244, '.': 0.0}, 'These hike': {'hike': 0.47712125471966244, 'onli': 0.47712125471966244, 'done': 0.47712125471966244, 'dure': 0.17609125905568124, 'daytim': 0.47712125471966244, ',': 0.0, 'howev': 0.47712125471966244, 'cast': 0.17609125905568124, 'crew': 0.17609125905568124, 'spent': 0.17609125905568124, 'night': 0.47712125471966244, 'four': 0.47712125471966244, 'season': 0.47712125471966244, 'hotel': 0.47712125471966244, '.': 0.0}}\n"
          ],
          "name": "stdout"
        }
      ]
    },
    {
      "cell_type": "code",
      "metadata": {
        "id": "kmtuPKNa-P5Q",
        "colab_type": "code",
        "colab": {
          "base_uri": "https://localhost:8080/",
          "height": 54
        },
        "outputId": "251bac98-860a-4291-d7df-344db1962da0"
      },
      "source": [
        "# 6 Calculate TF-IDF and generate a matrix\n",
        "tf_idf_matrix = _create_tf_idf_matrix(tf_matrix, idf_matrix)\n",
        "print(tf_idf_matrix)\n",
        "\n"
      ],
      "execution_count": 137,
      "outputs": [
        {
          "output_type": "stream",
          "text": [
            "{'To help th': {'help': 0.011360029874277677, 'actor': 0.022720059748555354, 'prepar': 0.011360029874277677, 'role': 0.011360029874277677, ',': 0.0, 'director': 0.011360029874277677, 'jame': 0.011360029874277677, 'cameron': 0.011360029874277677, 'took': 0.011360029874277677, 'cast': 0.004192649025135268, 'crew': 0.008385298050270535, 'hawaii': 0.011360029874277677, 'spent': 0.004192649025135268, 'day': 0.011360029874277677, 'trek': 0.011360029874277677, 'forest': 0.011360029874277677, 'jungl': 0.03408008962283303, 'live': 0.022720059748555354, 'like': 0.022720059748555354, 'tribe': 0.011360029874277677, '(': 0.011360029874277677, 'build': 0.011360029874277677, 'campfir': 0.011360029874277677, 'eat': 0.011360029874277677, 'fish': 0.011360029874277677, 'etc': 0.011360029874277677, ')': 0.011360029874277677, 'order': 0.011360029874277677, 'get': 0.011360029874277677, 'better': 0.011360029874277677, 'sens': 0.011360029874277677, 'would': 0.022720059748555354, 'move': 0.011360029874277677, 'around': 0.011360029874277677, 'pandora': 0.011360029874277677, 'sinc': 0.011360029874277677, 'ani': 0.011360029874277677, 'actual': 0.011360029874277677, 'set': 0.011360029874277677, 'aid': 0.011360029874277677, 'guid': 0.011360029874277677, '.': 0.0}, 'Zoe Saldan': {'zoe': 0.028065956159980143, 'saldana': 0.028065956159980143, 'even': 0.028065956159980143, 'dress': 0.028065956159980143, 'warrior': 0.028065956159980143, 'dure': 0.010358309356216544, 'journey': 0.028065956159980143, ',': 0.0, 'complet': 0.028065956159980143, 'alien': 0.028065956159980143, 'tail': 0.028065956159980143, 'symbol': 0.028065956159980143, 'one': 0.028065956159980143, 'charact': 0.028065956159980143, 'ha': 0.028065956159980143, 'movi': 0.028065956159980143, '.': 0.0}, 'These hike': {'hike': 0.03180808364797749, 'onli': 0.03180808364797749, 'done': 0.03180808364797749, 'dure': 0.01173941727037875, 'daytim': 0.03180808364797749, ',': 0.0, 'howev': 0.03180808364797749, 'cast': 0.01173941727037875, 'crew': 0.01173941727037875, 'spent': 0.01173941727037875, 'night': 0.03180808364797749, 'four': 0.03180808364797749, 'season': 0.03180808364797749, 'hotel': 0.03180808364797749, '.': 0.0}}\n"
          ],
          "name": "stdout"
        }
      ]
    },
    {
      "cell_type": "code",
      "metadata": {
        "id": "Ohn_IMov-P3I",
        "colab_type": "code",
        "colab": {
          "base_uri": "https://localhost:8080/",
          "height": 34
        },
        "outputId": "a6d43175-6aa9-4b99-919e-16cebe6256b1"
      },
      "source": [
        "# 7 Important Algorithm: score the sentences\n",
        "sentence_scores = _score_sentences(tf_idf_matrix)\n",
        "print(sentence_scores)\n",
        "\n"
      ],
      "execution_count": 138,
      "outputs": [
        {
          "output_type": "stream",
          "text": [
            "{'To help th': 0.012029806683201942, 'Zoe Saldan': 0.023722452682114033, 'These hike': 0.022215361460887494}\n"
          ],
          "name": "stdout"
        }
      ]
    },
    {
      "cell_type": "code",
      "metadata": {
        "id": "NepECXmA-PIJ",
        "colab_type": "code",
        "colab": {
          "base_uri": "https://localhost:8080/",
          "height": 34
        },
        "outputId": "0d6cb803-984a-41c7-97d6-0e201633187b"
      },
      "source": [
        "# 8 Find the threshold\n",
        "threshold = _average_score(sentence_scores)\n",
        "print(threshold)"
      ],
      "execution_count": 139,
      "outputs": [
        {
          "output_type": "stream",
          "text": [
            "0.019322540275401156\n"
          ],
          "name": "stdout"
        }
      ]
    },
    {
      "cell_type": "code",
      "metadata": {
        "id": "RfLHOh-F2k5X",
        "colab_type": "code",
        "colab": {
          "base_uri": "https://localhost:8080/",
          "height": 54
        },
        "outputId": "d6092dfb-a28a-442e-f25a-c010be2eb58e"
      },
      "source": [
        "# 9 Important Algorithm: Generate the summary\n",
        "summary = _generate_summary(sentences,sentence_scores,threshold)\n",
        "print(summary)"
      ],
      "execution_count": 140,
      "outputs": [
        {
          "output_type": "stream",
          "text": [
            " Zoe Saldana even dressed up as a warrior during these journeys, complete with an alien tail symbolic of the one her character has in the movie. These hikes were only done during the daytime, however, as the cast and crew spent their nights at a Four Seasons hotel.\n"
          ],
          "name": "stdout"
        }
      ]
    }
  ]
}